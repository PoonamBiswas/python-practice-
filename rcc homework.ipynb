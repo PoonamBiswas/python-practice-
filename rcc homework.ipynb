{
 "cells": [
  {
   "cell_type": "code",
   "execution_count": 1,
   "metadata": {},
   "outputs": [
    {
     "name": "stdout",
     "output_type": "stream",
     "text": [
      "enter height of the triangle: 10\n",
      "enetr base of the triangle : 50\n",
      "area of right angle triangle is 250.0 cmsq\n"
     ]
    }
   ],
   "source": [
    "#area of triangle\n",
    "h = int(input(\"enter height of the triangle: \"))\n",
    "b = int(input(\"enetr base of the triangle : \"))\n",
    "c= 1/2*b*h\n",
    "print (f\"area of right angle triangle is {c} cmsq\")"
   ]
  },
  {
   "cell_type": "code",
   "execution_count": 2,
   "metadata": {},
   "outputs": [
    {
     "name": "stdout",
     "output_type": "stream",
     "text": [
      " enter a number : 5\n",
      "5 is odd\n"
     ]
    }
   ],
   "source": [
    "#check weather given number is odd or even \n",
    "n = int(input(\" enter a number : \"))\n",
    "if (n%2)== 0:\n",
    "    print(f\"{n} is even\" )\n",
    "else: \n",
    "    print(f\"{n} is odd\")\n",
    "    "
   ]
  },
  {
   "cell_type": "code",
   "execution_count": 3,
   "metadata": {},
   "outputs": [
    {
     "name": "stdout",
     "output_type": "stream",
     "text": [
      " enter a number to be checked is prime or not : 69\n",
      "69 is not a prime number.\n"
     ]
    }
   ],
   "source": [
    "#python program to check given number is prime or not. \n",
    "def _prime_or_not(n):\n",
    "    if n<2:\n",
    "        return 0\n",
    "    ct=0\n",
    "    for i in range (2,n):\n",
    "        if n%i==0:\n",
    "            ct+=1\n",
    "    if ct==0:\n",
    "        return 1\n",
    "    else:\n",
    "        return 0 \n",
    "        \n",
    "\n",
    "z = int(input(\" enter a number to be checked is prime or not : \"))\n",
    "if _prime_or_not(z)==1:\n",
    "    print(f\"{z} is a prime number.\" )\n",
    "else: \n",
    "    print(f\"{z} is not a prime number.\")"
   ]
  },
  {
   "cell_type": "code",
   "execution_count": null,
   "metadata": {},
   "outputs": [],
   "source": []
  },
  {
   "cell_type": "code",
   "execution_count": null,
   "metadata": {},
   "outputs": [],
   "source": []
  },
  {
   "cell_type": "code",
   "execution_count": null,
   "metadata": {},
   "outputs": [],
   "source": []
  },
  {
   "cell_type": "code",
   "execution_count": 4,
   "metadata": {},
   "outputs": [
    {
     "name": "stdout",
     "output_type": "stream",
     "text": [
      "enter a number a: 6\n",
      "enter a number b: 100\n",
      "enter a number c: 20\n",
      "100 is the largest value\n"
     ]
    }
   ],
   "source": [
    "#to find the largest value from the given 3 number\n",
    "\n",
    "a = int(input(\"enter a number a: \"))\n",
    "b = int(input(\"enter a number b: \"))\n",
    "c = int(input(\"enter a number c: \"))\n",
    "d = 0 \n",
    "if a<b:\n",
    "    d=b\n",
    "else:\n",
    "    d=a\n",
    "if d<c:\n",
    "    d=c\n",
    "    \n",
    "print(f\"{d} is the largest value\") \n",
    "    \n"
   ]
  },
  {
   "cell_type": "code",
   "execution_count": null,
   "metadata": {},
   "outputs": [],
   "source": []
  },
  {
   "cell_type": "code",
   "execution_count": null,
   "metadata": {},
   "outputs": [],
   "source": []
  },
  {
   "cell_type": "code",
   "execution_count": 5,
   "metadata": {},
   "outputs": [
    {
     "ename": "SyntaxError",
     "evalue": "unmatched ')' (<ipython-input-5-c732a173d4d3>, line 1)",
     "output_type": "error",
     "traceback": [
      "\u001b[1;36m  File \u001b[1;32m\"<ipython-input-5-c732a173d4d3>\"\u001b[1;36m, line \u001b[1;32m1\u001b[0m\n\u001b[1;33m    a = input(\"enter 3 numbers (_,_,_):\"))\u001b[0m\n\u001b[1;37m                                         ^\u001b[0m\n\u001b[1;31mSyntaxError\u001b[0m\u001b[1;31m:\u001b[0m unmatched ')'\n"
     ]
    }
   ],
   "source": [
    "a = input(\"enter 3 numbers (_,_,_):\"))\n",
    "list = []\n",
    "for i in range (0, len (a)-1):\n",
    "    if a[i].isdigit():\n",
    "        list.append(a[i])\n",
    "        \n",
    "a = max(list)\n",
    "print(f\"{a} is the greatest number\")"
   ]
  },
  {
   "cell_type": "code",
   "execution_count": 6,
   "metadata": {},
   "outputs": [
    {
     "name": "stdout",
     "output_type": "stream",
     "text": [
      "Enter the number of terms in the sequence: 10\n",
      "0 1 1 2 3 5 8 13 21 34 "
     ]
    }
   ],
   "source": [
    "#to print fibonacci series using iterative methods\n",
    "a = 0\n",
    "b = 1\n",
    "n=int(input(\"Enter the number of terms in the sequence: \"))\n",
    "print(a,b,end=\" \")\n",
    "while(n-2):\n",
    "    c=a+b\n",
    "    a,b = b,c\n",
    "    print(c,end=\" \")\n",
    "    n=n-1\n"
   ]
  },
  {
   "cell_type": "code",
   "execution_count": null,
   "metadata": {},
   "outputs": [],
   "source": []
  },
  {
   "cell_type": "code",
   "execution_count": null,
   "metadata": {},
   "outputs": [],
   "source": [
    "\n",
    "        \n",
    "    "
   ]
  },
  {
   "cell_type": "code",
   "execution_count": 7,
   "metadata": {},
   "outputs": [],
   "source": [
    "#to print fibonacci series using recursive methods\n",
    "\n",
    "def fibo(r):\n",
    "    if r <=1:\n",
    "        return r \n",
    "    else:\n",
    "        return(fibo(r-1)+ fibo(r-2))\n",
    "    nterms = int(input(\"no. of terms: \"))\n",
    "    print (\"fibonacci sequence using recursive method: \")\n",
    "    for i in range (nterms):\n",
    "        print (fibo(i))\n",
    "    \n",
    "        \n",
    "\n"
   ]
  },
  {
   "cell_type": "code",
   "execution_count": 12,
   "metadata": {},
   "outputs": [
    {
     "name": "stdout",
     "output_type": "stream",
     "text": [
      "no. of terms: 10\n",
      "fibonacci sequence using recursive method: \n",
      "0\n",
      "1\n",
      "1\n",
      "2\n",
      "3\n",
      "5\n",
      "8\n",
      "13\n",
      "21\n",
      "34\n"
     ]
    }
   ],
   "source": [
    "def fibo(r):\n",
    "    if r <=1:\n",
    "        return r \n",
    "    else:\n",
    "        return(fibo(r-1)+ fibo(r-2))\n",
    "rterms = int(input(\"no. of terms: \"))\n",
    "if rterms <=0:\n",
    "    print(\"please enter a positive number\")\n",
    "else:\n",
    "    print (\"fibonacci sequence using recursive method: \")\n",
    "    for i in range (rterms):\n",
    "        print (fibo(i))\n",
    "    "
   ]
  },
  {
   "cell_type": "code",
   "execution_count": null,
   "metadata": {},
   "outputs": [],
   "source": []
  }
 ],
 "metadata": {
  "kernelspec": {
   "display_name": "Python 3",
   "language": "python",
   "name": "python3"
  },
  "language_info": {
   "codemirror_mode": {
    "name": "ipython",
    "version": 3
   },
   "file_extension": ".py",
   "mimetype": "text/x-python",
   "name": "python",
   "nbconvert_exporter": "python",
   "pygments_lexer": "ipython3",
   "version": "3.8.5"
  }
 },
 "nbformat": 4,
 "nbformat_minor": 4
}
